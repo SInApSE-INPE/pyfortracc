{
 "cells": [
  {
   "cell_type": "markdown",
   "metadata": {},
   "source": [
    "<div align=\"center\"; span style=\"color:#336699\"><b><h2>pyForTraCC - Track Infrared (Real Time Data) </h2></b></div>\n",
    "<hr style=\"border:2px solid #0077b9;\">\n",
    "<br/>\n",
    "<div style=\"text-align: center;font-size: 90%;\">\n",
    "   <sup><a href=\"https://www.linkedin.com/in/helvecio-leal/\"> Helvécio B. Leal Neto, <i class=\"fab fa-lg fa-orcid\" style=\"color: #a6ce39\"></i></a></sup><t>&nbsp;</t> \n",
    "    <sup><a href=\"https://www.linkedin.com/in/alan-calheiros-64a252160/\">Alan J. P. Calheiros<i class=\"fab fa-lg fa-orcid\" style=\"color: #a6ce39\"></i></a></sup>\n",
    "   <br/><br/>\n",
    "    National Institute for Space Research (INPE)\n",
    "    <br/>\n",
    "    Avenida dos Astronautas, 1758, Jardim da Granja, São José dos Campos, SP 12227-010, Brazil\n",
    "    <br/><br/>\n",
    "    Contact: <a href=\"mailto:helvecio.neto@inpe.br\">helvecio.neto@inpe.br</a>, <a href=\"mailto:alan.calheiros@inpe.br\">alan.calheiros@inpe.br</a>\n",
    "    <br/><br/>\n",
    "    Last Update: Apr 4, 2025\n",
    "</div>\n",
    "\n",
    "<br/>\n",
    "\n",
    "<div style=\"text-align: justify;  margin-left: 25%; margin-right: 25%;\">\n",
    "<b>Abstract.</b> This Jupyter Notebook shows how to use pyfortracc to track latest images from the GOES-19 satellite.<br>\n",
    "The algorithm uses the brightness temperature data from the ABI sensor to identify and track precipitating systems over the Brazil.<br>\n",
    "The output data is a tracking table containing the system's lifecyle and characteristics.\n",
    "</div>    \n",
    "<br/>\n",
    "<div style=\"text-align: justify;  margin-left: 15%; margin-right: 15%;font-size: 75%; border-style: solid; border-color: #0077b9; border-width: 1px; padding: 5px;\">\n",
    "    <b>In this example, we will use fortracc to compute track of precipitating systems over the globe and explore the output data after the algorithm workflow.\n",
    "</b>\n",
    "    <div style=\"margin-left: 10px; margin-right: 10px; margin-top:10px\">\n",
    "      <p> Leal Neto, H.B.; Calheiros, A.J.P.;  fortracc Algorithm. São José dos Campos, INPE, 2024. <a href=\"https://github.com/fortracc-project/\" target=\"_blank\"> Online </a>. </p>\n",
    "    </div>\n",
    "</div>"
   ]
  },
  {
   "cell_type": "markdown",
   "metadata": {},
   "source": [
    "### Schedule\n",
    "\n",
    "### Schedule\n",
    " [1. Installation](#install)<br>\n",
    " [2. Input Data](#input)<br>\n",
    " [3. Read Function](#data)<br>\n",
    " [4. Parameters (Name_list)](#namelist)<br>\n",
    " [5. Tracking Routine](#track)<br>\n",
    " [6. Tracking Visualization](#visualization)<br>"
   ]
  },
  {
   "cell_type": "markdown",
   "metadata": {},
   "source": [
    "<a id='install'></a>\n",
    "#### 1. Installation\n",
    "\n",
    "The installation of the pyfortracc package can be done using the pip command. "
   ]
  },
  {
   "cell_type": "code",
   "execution_count": null,
   "metadata": {},
   "outputs": [],
   "source": [
    "# Install latest version of pyfortracc\n",
    "!python -m pip install -q -U pyfortracc"
   ]
  },
  {
   "cell_type": "markdown",
   "metadata": {},
   "source": [
    "<a id='data'></a>\n",
    "#### 2. Data Input (Download Files)\n",
    "\n",
    "We use 'goesgcp' package to download the latest GOES-19 data from Google Cloud Platform (GCP).\n",
    "\n",
    "For install the package, use the command below:"
   ]
  },
  {
   "cell_type": "code",
   "execution_count": null,
   "metadata": {},
   "outputs": [],
   "source": [
    "# Install goesgcp from pypi\n",
    "!python -m pip install -q -U goesgcp"
   ]
  },
  {
   "cell_type": "markdown",
   "metadata": {},
   "source": [
    "After the installation of goesgcp, we can download the latest 10 images from the GOES-19 satellite and reproject the data to a regular grid with 0.045 degree resolution, approximately 5 km. And crop the data to the Brazil region."
   ]
  },
  {
   "cell_type": "code",
   "execution_count": null,
   "metadata": {},
   "outputs": [],
   "source": [
    "# Remove any previous input/\n",
    "!rm -rf input/\n",
    "\n",
    "# Download recent 10 GOES-19 images\n",
    "!goesgcp --recent 10 --output \"input/\" --resolution 0.045 --lat_min -35 --lat_max 5 --lon_min -80 --lon_max -30"
   ]
  },
  {
   "cell_type": "markdown",
   "metadata": {},
   "source": [
    "<a id='namelist'></a>\n",
    "#### 3. Read Function\n",
    "\n",
    "The `read_function` function is used to read the data from the input files. The function returns the data a numpy array of the brightness temperature data."
   ]
  },
  {
   "cell_type": "code",
   "execution_count": 1,
   "metadata": {},
   "outputs": [],
   "source": [
    "# The function below reads the data from the downloaded files\n",
    "import xarray as xr\n",
    "import glob\n",
    "\n",
    "def read_function(path):\n",
    "\tds=xr.open_dataset(path)\n",
    "\treturn ds['CMI'].data[::-1]"
   ]
  },
  {
   "cell_type": "markdown",
   "metadata": {},
   "source": [
    "To set the boundaries of the data, we use read_function to read the first image and get the latitude and longitude values."
   ]
  },
  {
   "cell_type": "code",
   "execution_count": 2,
   "metadata": {},
   "outputs": [],
   "source": [
    "# Set the lon_min, lon_max, lat_min and lat_max of domain\n",
    "files = glob.glob('input/*.nc')\n",
    "ds = xr.open_dataset(files[0])\n",
    "\n",
    "# Get the lon_min, lon_max, lat_min and lat_max of the domain\n",
    "lon_min = float(ds['lon'].min().values)\n",
    "lon_max = float(ds['lon'].max().values)\n",
    "lat_min = float(ds['lat'].min().values)\n",
    "lat_max = float(ds['lat'].max().values)"
   ]
  },
  {
   "cell_type": "markdown",
   "metadata": {},
   "source": [
    "<a id='namelist'></a>\n",
    "#### 4. Parameters: name_list\n",
    "\n",
    "The `name_list` is a dictionary with the parameters to be used in the tracking algorithm. \n",
    "For this example, we will use the parameters associated with mesoscale convective systems (MCS).\n",
    "We track the MCS using the brightness temperature data from the ABI sensor. And set the threshold values to the warmest to coldest temperatures by brightness temperature values of 235 K to 200 K. And set the minimum area of the system to 400 pixels (approximately 10.000 km²) and the next minimum area to 100 pixels (approximately 2.500 km²)."
   ]
  },
  {
   "cell_type": "code",
   "execution_count": null,
   "metadata": {},
   "outputs": [],
   "source": [
    "# Set name_list dictionary\n",
    "name_list = {}\n",
    "\n",
    "# Mandatory parameters\n",
    "name_list['input_path'] = 'input/' # Set the input path\n",
    "name_list['output_path'] = 'output/' # Set the output path\n",
    "name_list['thresholds'] = [235, 200] # Set the thresholds for tracking\n",
    "name_list['min_cluster_size'] = [400, 100] # Set the minimum size each individual cluster\n",
    "name_list['operator'] = '<=' # Set the operator segmentation based on the thresholds\n",
    "name_list['timestamp_pattern'] = 'OR_ABI-L2-CMIPF-M6C13_G19_s%Y%j%H%M' # Set the timestamp pattern of filenames\n",
    "name_list['pattern_position'] = [0, 38] # Set the pattern position, this is the position of the timestamp in the filename\n",
    "name_list['delta_time'] = 10 # Set the delta time between images\n",
    "\n",
    "# Spatial parameters\n",
    "name_list['lon_min'] = lon_min # Set the lon_min\n",
    "name_list['lon_max'] = lon_max # Set the lon_max\n",
    "name_list['lat_min'] = lat_min # Set the lat_min\n",
    "name_list['lat_max'] = lat_max # Set the lat_max\n",
    "\n",
    "# Vector method parameters (showed in article: https://doi.org/10.3390/rs14215408)\n",
    "name_list['spl_correction'] = True # It is used to perform the correction at Splitting events\n",
    "name_list['mrg_correction'] = True # It is used to perform the correction at Merging events\n",
    "name_list['inc_correction'] = True # It is used to perform the correction using Inner Core vectors\n",
    "name_list['opt_correction'] = True # It is used to perform the correction using the Optical Flow method\n",
    "name_list['elp_correction'] = True # It is used to perform the correction using the Ellipse method\n",
    "name_list['validation'] = True # It is used to perform the validation of the correction methods"
   ]
  },
  {
   "cell_type": "markdown",
   "metadata": {},
   "source": [
    "<a id='track'></a>\n",
    "#### 5. Track Routine\n",
    "\n",
    "The `track` function is a main funtion to track the MCS from pyfortracc package. "
   ]
  },
  {
   "cell_type": "code",
   "execution_count": 18,
   "metadata": {},
   "outputs": [],
   "source": [
    "# Import track function from pyfortracc\n",
    "from pyfortracc import track"
   ]
  },
  {
   "cell_type": "code",
   "execution_count": null,
   "metadata": {},
   "outputs": [],
   "source": [
    "# Track the clusters \n",
    "track(name_list, read_function)"
   ]
  },
  {
   "cell_type": "markdown",
   "metadata": {},
   "source": [
    "<a id='visualize'></a>\n",
    "#### 6. Track Output\n",
    "\n",
    "The outputs of the `track` function is the `tracking_table`, which contains the tracking information of the MSCs.\n",
    "\n",
    "The `tracking_table` is a DataFrame containing the tracking information of the convective systems.<br>\n",
    "\n",
    "To load the tracking table, we use the `duckdb` witch is library to load the parquet files and query the data."
   ]
  },
  {
   "cell_type": "code",
   "execution_count": null,
   "metadata": {},
   "outputs": [],
   "source": [
    "# Import duckdb\n",
    "import duckdb\n",
    "\n",
    "# Connect to the database\n",
    "con = duckdb.connect(database=':memory:', read_only=False)\n",
    "\n",
    "# Open tracking table\n",
    "tracking_table = con.execute(f\"\"\"SELECT * \n",
    "                             FROM parquet_scan('output/track/trackingtable/*.parquet',\n",
    "                             union_by_name=True)\n",
    "                             \"\"\").fetch_df()"
   ]
  },
  {
   "cell_type": "markdown",
   "metadata": {},
   "source": [
    "Other way to load the tracking table is using the `plot_animation` function from the `pyfortracc` module.\n",
    "\n",
    "The `plot_animation` receives the data and the track as input and plots the data and the track on the same map.<br>\n",
    "We need to set the dimensions of the plot, the projection, and the extent of the plot."
   ]
  },
  {
   "cell_type": "code",
   "execution_count": 21,
   "metadata": {},
   "outputs": [],
   "source": [
    "# Import numpy for np.greater_equal and plot_animation from pyfortracc\n",
    "import numpy as np\n",
    "from pyfortracc import plot_animation"
   ]
  },
  {
   "cell_type": "code",
   "execution_count": null,
   "metadata": {},
   "outputs": [],
   "source": [
    "# Visualize as animation.\n",
    "plot_animation(read_function=read_function, # Read function\n",
    "                          figsize=(8,8), # Figure size\n",
    "                          name_list=name_list, # Name list dictionary\n",
    "                          start_timestamp = str(tracking_table['timestamp'].min()), # Start timestamp\n",
    "                          end_timestamp= str(tracking_table['timestamp'].max()), # End timestamp\n",
    "                          info_col_name=False, # Info column name\n",
    "                          cbar_title='Temperature(k)', # Colorbar title\n",
    "                          trajectory=True, # Plot the trajectory\n",
    "                          smooth_trajectory=True, # Smooth the trajectory\n",
    "                          cmap='turbo', # Colormap\n",
    "                          min_val=200, # Min value\n",
    "                          max_val=235, # Max value\n",
    "                          nan_value=235, # NaN value\n",
    "                          nan_operation=np.greater_equal, # NaN operation\n",
    "                          bound_color='blue', # Bound color\n",
    "                          info_cols=['uid'], # Info columns from tracking table\n",
    "                          parallel=False\n",
    "                          )"
   ]
  }
 ],
 "metadata": {
  "kernelspec": {
   "display_name": "base",
   "language": "python",
   "name": "python3"
  },
  "language_info": {
   "codemirror_mode": {
    "name": "ipython",
    "version": 3
   },
   "file_extension": ".py",
   "mimetype": "text/x-python",
   "name": "python",
   "nbconvert_exporter": "python",
   "pygments_lexer": "ipython3",
   "version": "3.12.7"
  }
 },
 "nbformat": 4,
 "nbformat_minor": 2
}
